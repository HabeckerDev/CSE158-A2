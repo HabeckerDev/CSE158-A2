{
 "cells": [
  {
   "cell_type": "code",
   "execution_count": 97,
   "metadata": {},
   "outputs": [],
   "source": [
    "import json\n",
    "import math\n",
    "import numpy as np\n",
    "import random\n",
    "import sklearn\n",
    "import string\n",
    "from collections import defaultdict\n",
    "import matplotlib.pyplot as plt\n",
    "from nltk.stem.porter import *\n",
    "from sklearn import linear_model\n",
    "#from gensim.models import Word2Vec\n",
    "import dateutil\n",
    "from scipy.sparse import lil_matrix # To build sparse feature matrices, if you like\n",
    "from scipy.sparse import csr_matrix\n",
    "\n",
    "from sklearn.model_selection import train_test_split\n",
    "from sklearn.linear_model import LinearRegression"
   ]
  },
  {
   "cell_type": "code",
   "execution_count": 98,
   "metadata": {},
   "outputs": [],
   "source": [
    "dataset = json.load(open(\"train-transcripts-aligned.json\", 'r+'))"
   ]
  },
  {
   "cell_type": "code",
   "execution_count": 99,
   "metadata": {
    "scrolled": true
   },
   "outputs": [
    {
     "name": "stdout",
     "output_type": "stream",
     "text": [
      "0.4099999999999999\n",
      "{'episode': 'ep-1', 'act': 'prologue', 'act_title': 'Prologue', 'role': 'interviewer', 'speaker': 'ira glass', 'utterance_start': 0.17, 'utterance_end': 0.58, 'duration': 0.4099999999999999, 'utterance': 'Joe Franklin?', 'n_sentences': 1, 'n_words': 3, 'has_q': True, 'ends_q': True, 'alignments': [[0.17, 0.45000000000000007, 0], [0.45000000000000007, 0.5700000000000001, 1]]}\n"
     ]
    }
   ],
   "source": [
    "print(dataset['ep-1'][0]['duration'])\n",
    "print(dataset['ep-1'][0])"
   ]
  },
  {
   "cell_type": "code",
   "execution_count": 100,
   "metadata": {},
   "outputs": [],
   "source": [
    "actNames = defaultdict(int)\n",
    "actTitles = defaultdict(int)\n",
    "roles = defaultdict(int)\n",
    "speakersUtterances = defaultdict(int)\n",
    "episodeEntries = defaultdict(int)\n",
    "totalUtterances = 0\n",
    "for x in dataset:\n",
    "    for y in dataset[x]:\n",
    "        actNames[y['act']] += 1\n",
    "        actTitles[y['act_title']] += 1\n",
    "        roles[y['role']] += 1\n",
    "        speakersUtterances[y['speaker']] += 1\n",
    "        episodeEntries[y['episode']] += 1       \n",
    "        totalUtterances += 1"
   ]
  },
  {
   "cell_type": "code",
   "execution_count": 101,
   "metadata": {},
   "outputs": [
    {
     "name": "stdout",
     "output_type": "stream",
     "text": [
      "145818\n"
     ]
    }
   ],
   "source": [
    "print(totalUtterances)"
   ]
  },
  {
   "cell_type": "code",
   "execution_count": 102,
   "metadata": {},
   "outputs": [
    {
     "data": {
      "text/plain": [
       "Text(0.5, 1.0, 'Bar Graph with Randomized Colors')"
      ]
     },
     "execution_count": 102,
     "metadata": {},
     "output_type": "execute_result"
    },
    {
     "data": {
      "image/png": "[encoded data removed]",
      "text/plain": [
       "<Figure size 432x288 with 1 Axes>"
      ]
     },
     "metadata": {
      "needs_background": "light"
     },
     "output_type": "display_data"
    }
   ],
   "source": [
    "categories = list(actNames.keys())\n",
    "values = [entry for entry in actNames.values()]\n",
    "colors = [('#%06x' % random.randint(0, 0xFFFFFF)) for _ in range(len(categories))]\n",
    "\n",
    "# Create a bar graph\n",
    "plt.bar(categories, values, color=colors)\n",
    "plt.xlabel('Categories')\n",
    "plt.ylabel('Values')\n",
    "plt.title('Bar Graph with Randomized Colors')"
   ]
  },
  {
   "cell_type": "code",
   "execution_count": 103,
   "metadata": {},
   "outputs": [
    {
     "data": {
      "text/plain": [
       "Text(0.5, 1.0, 'Bar Graph with Randomized Colors')"
      ]
     },
     "execution_count": 103,
     "metadata": {},
     "output_type": "execute_result"
    },
    {
     "data": {
      "image/png": "[encoded data removed]",
      "text/plain": [
       "<Figure size 432x288 with 1 Axes>"
      ]
     },
     "metadata": {
      "needs_background": "light"
     },
     "output_type": "display_data"
    }
   ],
   "source": [
    "categories = list(roles.keys())\n",
    "values = [entry for entry in roles.values()]\n",
    "colors = [('#%06x' % random.randint(0, 0xFFFFFF)) for _ in range(len(categories))]\n",
    "\n",
    "# Create a bar graph\n",
    "plt.bar(categories, values, color=colors)\n",
    "plt.xlabel('Categories')\n",
    "plt.ylabel('Values')\n",
    "plt.title('Bar Graph with Randomized Colors')"
   ]
  },
  {
   "cell_type": "code",
   "execution_count": 104,
   "metadata": {},
   "outputs": [],
   "source": [
    "interviewer_length = []\n",
    "host_length = []\n",
    "subject_length = []\n",
    "total_length = []\n",
    "data = dataset['ep-1']\n",
    "\n",
    "for x in dataset:\n",
    "    for y in dataset[x]:\n",
    "        if y['role'] == 'interviewer':\n",
    "            interviewer_length.append(y['duration'])\n",
    "        elif y['role'] == 'host':\n",
    "            host_length.append(y['duration'])\n",
    "        else:\n",
    "            subject_length.append(y['duration'])\n",
    "        total_length.append(y['duration'])"
   ]
  },
  {
   "cell_type": "code",
   "execution_count": 105,
   "metadata": {},
   "outputs": [
    {
     "name": "stdout",
     "output_type": "stream",
     "text": [
      "92845.56506122439 1152119.3599224729 807833.3609384841 2052798.2859221532\n",
      "percent of interviewar utterances:  0.045228781462819924\n",
      "percent of host utterances:  0.5612433368751185\n",
      "percent of subject utterances:  0.3935278816620753\n",
      "average length of utterances interviewer, host, subject, total:  4.979382444557781 18.591866254457436 12.389512153405274 14.077811284766991\n"
     ]
    }
   ],
   "source": [
    "i_length = sum(interviewer_length)\n",
    "h_length = sum(host_length)\n",
    "s_length = sum(subject_length)\n",
    "t_length = sum(total_length)\n",
    "print(i_length, h_length, s_length, t_length)\n",
    "print(\"percent of interviewar utterances: \", i_length/t_length)\n",
    "print(\"percent of host utterances: \", h_length/t_length)\n",
    "print(\"percent of subject utterances: \", s_length/t_length)\n",
    "\n",
    "i_average = i_length/len(interviewer_length)\n",
    "h_average = h_length/len(host_length)\n",
    "s_average = s_length/len(subject_length)\n",
    "t_average = t_length/len(total_length)\n",
    "print('average length of utterances interviewer, host, subject, total: ', i_average, h_average, s_average, t_average)"
   ]
  },
  {
   "cell_type": "code",
   "execution_count": 106,
   "metadata": {},
   "outputs": [
    {
     "data": {
      "text/plain": [
       "Text(0.5, 1.0, 'Bar Graph with Randomized Colors')"
      ]
     },
     "execution_count": 106,
     "metadata": {},
     "output_type": "execute_result"
    },
    {
     "data": {
      "image/png": "[encoded data removed]",
      "text/plain": [
       "<Figure size 432x288 with 1 Axes>"
      ]
     },
     "metadata": {
      "needs_background": "light"
     },
     "output_type": "display_data"
    }
   ],
   "source": [
    "sorted_data = dict(sorted(speakersUtterances.items(), key=lambda x: x[1], reverse=True)[:10])\n",
    "\n",
    "categories = list(sorted_data.keys())\n",
    "values = list(sorted_data.values())\n",
    "colors = [('#%06x' % random.randint(0, 0xFFFFFF)) for _ in range(len(categories))]\n",
    "\n",
    "# Create a bar graph\n",
    "plt.bar(categories, values, color=colors)\n",
    "plt.xlabel('Categories')\n",
    "plt.ylabel('Values')\n",
    "plt.title('Bar Graph with Randomized Colors')"
   ]
  },
  {
   "cell_type": "code",
   "execution_count": 107,
   "metadata": {},
   "outputs": [
    {
     "name": "stdout",
     "output_type": "stream",
     "text": [
      "ira glass: 26523\n",
      "nancy updike: 2100\n",
      "sarah koenig: 2071\n",
      "chana joffe-walt: 1696\n",
      "alex blumberg: 1626\n",
      "zoe chace: 1528\n",
      "sean cole: 1457\n",
      "david sedaris: 1349\n",
      "jack hitt: 1217\n",
      "man: 1136\n",
      "david kestenbaum: 1078\n",
      "jonathan goldstein: 1036\n",
      "ben calhoun: 1009\n",
      "sarah vowell: 871\n",
      "adam davidson: 846\n",
      "miki meek: 821\n",
      "woman: 786\n",
      "alix spiegel: 767\n",
      "scott carrier: 700\n",
      "david rakoff: 653\n",
      "stephanie foo: 636\n",
      "neil drumming: 603\n",
      "lisa pollak: 534\n",
      "elna baker: 528\n",
      "interpreter: 525\n",
      "starlee kine: 522\n",
      "dana chivvis: 495\n",
      "jon ronson: 481\n",
      "michael lewis: 450\n",
      "brian reed: 438\n",
      "alex kotlowitz: 426\n",
      "robyn semien: 419\n",
      "announcer: 418\n",
      "matt malloy: 403\n",
      "susan burton: 347\n",
      "dan savage: 342\n",
      "paul tough: 340\n",
      "hyder akbar: 339\n",
      "emanuele berry: 339\n",
      "julie snyder: 324\n",
      "james spring: 323\n",
      "sandra tsing loh: 316\n",
      "shalom auslander: 312\n",
      "davy rothbart: 306\n",
      "lilly sullivan: 291\n",
      "russell banks: 285\n",
      "translator: 277\n",
      "abdi nor: 271\n",
      "jane feltes: 259\n",
      "john hodgman: 254\n",
      "margy rochlin: 248\n",
      "mike birbiglia: 244\n",
      "man 1: 242\n",
      "woman 1: 242\n",
      "kirk johnson: 242\n",
      "brett martin: 241\n",
      "julia sweeney: 239\n",
      "diane wu: 228\n",
      "lina misitzis: 215\n",
      "josh bearman: 214\n",
      "jonathan menjivar: 210\n",
      "jeanne darst: 209\n",
      "hillary frank: 203\n",
      "joel meyerowitz: 202\n",
      "michael may: 199\n",
      "barbara clinkscales: 195\n",
      "leo hornak: 190\n",
      "ian brown: 189\n",
      "man 2: 184\n",
      "hy meyerowitz: 184\n",
      "nick hornby: 184\n",
      "woman 2: 183\n",
      "beau o'reilly: 179\n",
      "dave: 175\n",
      "david segal: 173\n",
      "jake bernstein: 172\n",
      "jake halpern: 171\n",
      "jacob goldstein: 165\n",
      "joel lovell: 162\n",
      "jay allison: 161\n",
      "brady udall: 160\n",
      "dishwasher pete: 158\n",
      "mariya karimjee: 156\n",
      "girl: 155\n",
      "ben: 155\n",
      "george saunders: 155\n",
      "rebecca perl: 153\n",
      "jon mooallem: 153\n",
      "joanna kakissis: 152\n",
      "shane dubow: 151\n",
      "petra bartosiewicz: 150\n",
      "boy: 147\n",
      "bim adewunmi: 147\n",
      "buzz goldstein: 146\n",
      "mike paterniti: 143\n",
      "lindy west: 143\n",
      "john biewen: 141\n",
      "zack mcdermott: 140\n",
      "john: 138\n",
      "kevin: 138\n"
     ]
    }
   ],
   "source": [
    "sorted_dataSpeaker = dict(sorted(speakersUtterances.items(), key=lambda x: x[1], reverse=True)[:100])\n",
    "for key, value in list(sorted_dataSpeaker.items())[:100]:\n",
    "    print(f'{key}: {value}')"
   ]
  },
  {
   "cell_type": "code",
   "execution_count": 108,
   "metadata": {},
   "outputs": [],
   "source": [
    "speakerTime = defaultdict(int)\n",
    "\n",
    "for x in dataset:\n",
    "    for y in dataset[x]:\n",
    "        speakerTime[y['speaker']] += y['duration']"
   ]
  },
  {
   "cell_type": "code",
   "execution_count": 109,
   "metadata": {},
   "outputs": [
    {
     "data": {
      "text/plain": [
       "Text(0.5, 1.0, 'Bar Graph with Randomized Colors')"
      ]
     },
     "execution_count": 109,
     "metadata": {},
     "output_type": "execute_result"
    },
    {
     "data": {
      "image/png": "[encoded data removed]",
      "text/plain": [
       "<Figure size 432x288 with 1 Axes>"
      ]
     },
     "metadata": {
      "needs_background": "light"
     },
     "output_type": "display_data"
    }
   ],
   "source": [
    "sorted_data = dict(sorted(speakerTime.items(), key=lambda x: x[1], reverse=True)[:10])\n",
    "\n",
    "categories = list(sorted_data.keys())\n",
    "values = list(sorted_data.values())\n",
    "colors = [('#%06x' % random.randint(0, 0xFFFFFF)) for _ in range(len(categories))]\n",
    "\n",
    "# Create a bar graph\n",
    "plt.bar(categories, values, color=colors)\n",
    "plt.xlabel('Categories')\n",
    "plt.ylabel('Values')\n",
    "plt.title('Bar Graph with Randomized Colors')"
   ]
  },
  {
   "cell_type": "code",
   "execution_count": 110,
   "metadata": {},
   "outputs": [
    {
     "name": "stdout",
     "output_type": "stream",
     "text": [
      "ira glass: 382211.3379214892\n",
      "nancy updike: 31079.829999999973\n",
      "david sedaris: 30274.26000000002\n",
      "sarah koenig: 26803.68999999999\n",
      "alex blumberg: 22776.31000000003\n",
      "chana joffe-walt: 21862.27401360544\n",
      "jack hitt: 19908.150000000045\n",
      "sarah vowell: 19373.829999999958\n",
      "sean cole: 18116.549359835608\n",
      "zoe chace: 17910.60999999997\n",
      "scott carrier: 15821.390000000007\n",
      "jonathan goldstein: 15594.839999999998\n",
      "david rakoff: 15298.509999999995\n",
      "ben calhoun: 14861.01999999999\n",
      "alix spiegel: 13548.540000000005\n",
      "david kestenbaum: 12451.254000000019\n",
      "adam davidson: 12411.220000000005\n",
      "matt malloy: 9338.949999999999\n",
      "stephanie foo: 8751.410000000007\n",
      "miki meek: 8562.150000000007\n",
      "michael lewis: 8525.379999999997\n",
      "man: 8142.685759637208\n",
      "neil drumming: 7710.322499999997\n",
      "elna baker: 7709.879999999998\n",
      "jon ronson: 7674.480000000014\n",
      "dan savage: 7496.550000000001\n",
      "woman: 7176.819999999998\n",
      "sandra tsing loh: 7090.909999999998\n",
      "starlee kine: 6598.929999999996\n",
      "hyder akbar: 6593.369999999997\n",
      "alex kotlowitz: 6466.219999999996\n",
      "julia sweeney: 6449.789999999997\n",
      "susan burton: 6322.410000000005\n",
      "lisa pollak: 6129.069999999995\n",
      "mike birbiglia: 5970.770000000003\n",
      "dana chivvis: 5615.91\n",
      "paul tough: 5560.550000000003\n",
      "james spring: 5406.889999999999\n",
      "interpreter: 5369.759999999998\n",
      "john hodgman: 5098.639999999999\n",
      "shalom auslander: 4963.250000000001\n",
      "announcer: 4747.8517080498805\n",
      "robyn semien: 4665.119999999999\n",
      "davy rothbart: 4588.6500000000015\n",
      "julie snyder: 4572.650000000003\n",
      "brian reed: 4463.519999999998\n",
      "beau o'reilly: 4407.069999999998\n",
      "russell banks: 4276.76\n",
      "brady udall: 4267.939999999999\n",
      "brett martin: 4263.440000000001\n",
      "margy rochlin: 4224.380000000006\n",
      "mike paterniti: 3992.2200000000003\n",
      "kirk johnson: 3930.920000000002\n",
      "emanuele berry: 3907.2599999999998\n",
      "lilly sullivan: 3876.2800000000025\n",
      "ian brown: 3798.2\n",
      "josh bearman: 3433.440000000001\n",
      "translator: 3431.7799999999993\n",
      "kevin: 3402.9899999999993\n",
      "abdi nor: 3293.100000000004\n",
      "jake bernstein: 3200.1399999999994\n",
      "michael may: 3009.0999999999967\n",
      "tobias wolff: 2996.159999999999\n",
      "george saunders: 2976.0016553287974\n",
      "sarah: 2896.970000000004\n",
      "dishwasher pete: 2896.5233333333317\n",
      "joel lovell: 2860.840000000001\n",
      "diane wu: 2801.6300000000006\n",
      "woman 1: 2753.2700000000027\n",
      "petra bartosiewicz: 2697.4099999999994\n",
      "cheryl trykv: 2670.9\n",
      "susan drury: 2665.1499999999996\n",
      "malcolm gladwell: 2578.3399999999997\n",
      "rennie sparks: 2564.6899999999996\n",
      "jonathan menjivar: 2558.130000000001\n",
      "david segal: 2549.8599999999988\n",
      "heather o'neill: 2546.060000000001\n",
      "mariya karimjee: 2535.5099999999984\n",
      "kevin kelly: 2518.369999999999\n",
      "lina misitzis: 2509.370000000002\n",
      "hillary frank: 2496.5899999999983\n",
      "barbara clinkscales: 2482.31\n",
      "richard bausch: 2459.71\n",
      "shane dubow: 2454.2700000000013\n",
      "jake halpern: 2434.1400000000003\n",
      "leo hornak: 2383.3999999999974\n",
      "jane feltes: 2360.5899999999974\n",
      "bim adewunmi: 2327.813061224493\n",
      "rebecca perl: 2281.1000000000004\n",
      "jeanne darst: 2233.4700000000003\n",
      "brent runyon: 2220.47\n",
      "iggy scam: 2201.8999999999996\n",
      "douglas williams: 2189.1699999999996\n",
      "dani shapiro: 2153.5900000000006\n",
      "alexa junge: 2150.93\n",
      "cop: 2141.889999999999\n",
      "nadia reiman: 2122.9599999999996\n",
      "susan zalkind: 2118.88\n",
      "susan bergman: 2113.85\n",
      "jon mooallem: 2102.259999999999\n"
     ]
    }
   ],
   "source": [
    "sorted_dataSpeaker = dict(sorted(speakerTime.items(), key=lambda x: x[1], reverse=True)[:100])\n",
    "for key, value in list(sorted_dataSpeaker.items())[:100]:\n",
    "    print(f'{key}: {value}')"
   ]
  },
  {
   "cell_type": "code",
   "execution_count": 111,
   "metadata": {},
   "outputs": [],
   "source": [
    "question_length = []\n",
    "total_length = []\n",
    "statement_length = []\n",
    "data = dataset['ep-1']\n",
    "\n",
    "for d in data:\n",
    "    if d['has_q'] is True:\n",
    "        question_length.append(d['duration'])\n",
    "    else:\n",
    "        statement_length.append(d['duration'])\n",
    "    total_length.append(d['duration'])"
   ]
  },
  {
   "cell_type": "code",
   "execution_count": 112,
   "metadata": {},
   "outputs": [
    {
     "name": "stdout",
     "output_type": "stream",
     "text": [
      "801.5500000000005 2723.4133333333316 3524.9633333333322\n",
      "3.397683654585902\n",
      "4.397683654585903\n",
      "average q,s,t:  15.414423076923088 19.878929440389282 18.650599647266308\n",
      "0.7754151511602343\n"
     ]
    }
   ],
   "source": [
    "# question utterance duration is about 0.775 times shorter than statement utterance duration\n",
    "q_length = sum(question_length)\n",
    "t_length = sum(total_length)\n",
    "s_length = sum(statement_length)\n",
    "print(q_length, s_length, t_length)\n",
    "print(s_length/q_length)\n",
    "print(t_length/q_length)\n",
    "\n",
    "q_average = q_length/len(question_length)\n",
    "s_average = s_length/len(statement_length)\n",
    "t_average = t_length/len(total_length)\n",
    "print('average q,s,t: ', q_average, s_average, t_average)\n",
    "print(q_average/s_average)"
   ]
  },
  {
   "cell_type": "markdown",
   "metadata": {},
   "source": [
    "# Learning Utterance Duration"
   ]
  },
  {
   "cell_type": "code",
   "execution_count": 113,
   "metadata": {},
   "outputs": [],
   "source": [
    "def MSE(ypred,y):\n",
    "    diffs = [(a-b)**2 for (a,b) in zip(y,ypred)]\n",
    "    return sum(diffs) / len(diffs)"
   ]
  },
  {
   "cell_type": "code",
   "execution_count": 114,
   "metadata": {},
   "outputs": [],
   "source": [
    "def MAE(ypred,y):\n",
    "    diffs = [abs(a-b) for (a,b) in zip(y,ypred)]\n",
    "    return sum(diffs)/len(diffs)"
   ]
  },
  {
   "cell_type": "code",
   "execution_count": 115,
   "metadata": {
    "scrolled": true
   },
   "outputs": [
    {
     "name": "stdout",
     "output_type": "stream",
     "text": [
      "X sample: [[13]\n",
      " [10]\n",
      " [20]\n",
      " [38]\n",
      " [32]]\n",
      "y sample: [0.41 0.81 1.45 1.61 1.44]\n"
     ]
    }
   ],
   "source": [
    "offset = []\n",
    "utterance_lengths = []\n",
    "durations = []\n",
    "\n",
    "# Iterating through each episode\n",
    "for episode_id, turns in dataset.items():\n",
    "    # Iterating through each turn in the episode\n",
    "    for turn in turns:\n",
    "        utterance_length = len(turn['utterance'])\n",
    "        duration = turn['utterance_end'] - turn['utterance_start']\n",
    "\n",
    "        offset.append(1)\n",
    "        utterance_lengths.append(utterance_length)\n",
    "        durations.append(duration)\n",
    "        \n",
    "X = np.array(utterance_lengths).reshape(-1, 1)  # Features (utterance lengths)\n",
    "y = np.array(durations)  # Target (durations)\n",
    "\n",
    "print(\"X sample:\", X[:5])  # Print first 5 samples of features\n",
    "print(\"y sample:\", y[:5])  # Print first 5 samples of targets"
   ]
  },
  {
   "cell_type": "code",
   "execution_count": 116,
   "metadata": {},
   "outputs": [],
   "source": [
    "# Split the data into training and testing sets\n",
    "X_train, X_test, y_train, y_test = train_test_split(X, y, test_size=0.2, random_state=42)\n",
    "\n",
    "# Create and train the model\n",
    "model = LinearRegression()\n",
    "model.fit(X_train, y_train)\n",
    "\n",
    "# Test the model (optional)\n",
    "y_pred = model.predict(X_test)\n",
    "lengthOnly = MAE(y_pred,y_test)"
   ]
  },
  {
   "cell_type": "code",
   "execution_count": 117,
   "metadata": {},
   "outputs": [
    {
     "name": "stdout",
     "output_type": "stream",
     "text": [
      "MAE with only length of utterance as a feature:  3.141693651499453\n"
     ]
    }
   ],
   "source": [
    "print(\"MAE with only length of utterance as a feature: \", lengthOnly)"
   ]
  },
  {
   "cell_type": "code",
   "execution_count": 118,
   "metadata": {},
   "outputs": [],
   "source": [
    "offset = []\n",
    "utterance_lengths = []\n",
    "durations = []\n",
    "has_questions = []  # List to store 'has_q' feature\n",
    "\n",
    "# Iterating through each episode\n",
    "for episode_id, turns in dataset.items():\n",
    "    # Iterating through each turn in the episode\n",
    "    for turn in turns:\n",
    "        utterance_length = len(turn['utterance'])\n",
    "        duration = turn['utterance_end'] - turn['utterance_start']\n",
    "        has_question = int(turn['has_q'])  # Convert boolean to int (True to 1, False to 0)\n",
    "\n",
    "        offset.append(1)\n",
    "        utterance_lengths.append(utterance_length)\n",
    "        durations.append(duration)\n",
    "        has_questions.append(has_question)\n",
    "        \n",
    "X2 = np.column_stack((offset, utterance_lengths, has_questions))  # Combine utterance lengths and has_q features\n",
    "y2 = np.array(durations)  # Target (durations)"
   ]
  },
  {
   "cell_type": "code",
   "execution_count": 119,
   "metadata": {},
   "outputs": [],
   "source": [
    "# Split the data into training and testing sets\n",
    "X2_train, X2_test, y2_train, y2_test = train_test_split(X2, y2, test_size=0.2, random_state=42)\n",
    "\n",
    "# Create and train the model\n",
    "model = LinearRegression()\n",
    "model.fit(X2_train, y2_train)\n",
    "\n",
    "# Test the model (optional)\n",
    "y2_pred = model.predict(X2_test)\n",
    "lengthAndQuestion = MAE(y2_pred,y2_test)"
   ]
  },
  {
   "cell_type": "code",
   "execution_count": 120,
   "metadata": {},
   "outputs": [
    {
     "name": "stdout",
     "output_type": "stream",
     "text": [
      "MAE including the feature of if the utterance has a question:  3.1416532831367996\n"
     ]
    }
   ],
   "source": [
    "print(\"MAE including the feature of if the utterance has a question: \", lengthAndQuestion)"
   ]
  },
  {
   "cell_type": "code",
   "execution_count": 121,
   "metadata": {},
   "outputs": [],
   "source": [
    "offset = []\n",
    "utterance_lengths = []\n",
    "durations = []\n",
    "has_questions = []  # List to store 'has_q' feature\n",
    "num_words = []\n",
    "\n",
    "# Iterating through each episode\n",
    "for episode_id, turns in dataset.items():\n",
    "    # Iterating through each turn in the episode\n",
    "    for turn in turns:\n",
    "        utterance_length = len(turn['utterance'])\n",
    "        duration = turn['duration']\n",
    "        has_question = int(turn['has_q'])  # Convert boolean to int (True to 1, False to 0)\n",
    "        words = turn['n_words']\n",
    "\n",
    "        offset.append(1)\n",
    "        utterance_lengths.append(utterance_length)\n",
    "        durations.append(duration)\n",
    "        has_questions.append(has_question)\n",
    "        num_words.append(words)\n",
    "        \n",
    "X3 = np.column_stack((offset, utterance_lengths, has_questions, num_words))  # Combine utterance lengths and has_q features\n",
    "y3 = np.array(durations)  # Target (durations)"
   ]
  },
  {
   "cell_type": "code",
   "execution_count": 122,
   "metadata": {},
   "outputs": [],
   "source": [
    "X3_train, X3_test, y3_train, y3_test = train_test_split(X3, y3, test_size=0.2, random_state=42)\n",
    "\n",
    "# Create and train the model\n",
    "model = LinearRegression()\n",
    "model.fit(X3_train, y3_train)\n",
    "\n",
    "# Test the model (optional)\n",
    "y3_pred = model.predict(X3_test)\n",
    "addedNumWords = MAE(y3_pred,y3_test)"
   ]
  },
  {
   "cell_type": "code",
   "execution_count": 123,
   "metadata": {},
   "outputs": [
    {
     "name": "stdout",
     "output_type": "stream",
     "text": [
      "MAE including number of words per utterance:  3.0372459185198815\n"
     ]
    }
   ],
   "source": [
    "print(\"MAE including number of words per utterance: \", addedNumWords)"
   ]
  },
  {
   "cell_type": "code",
   "execution_count": 124,
   "metadata": {},
   "outputs": [],
   "source": [
    "offset = []\n",
    "utterance_lengths = []\n",
    "durations = []\n",
    "has_questions = []  # List to store 'has_q' feature\n",
    "num_words = []\n",
    "num_sentences = []\n",
    "\n",
    "# Iterating through each episode\n",
    "for episode_id, turns in dataset.items():\n",
    "    # Iterating through each turn in the episode\n",
    "    for turn in turns:\n",
    "        utterance_length = len(turn['utterance'])\n",
    "        duration = turn['duration']\n",
    "        has_question = int(turn['has_q'])  # Convert boolean to int (True to 1, False to 0)\n",
    "        words = turn['n_words']\n",
    "        sentence = turn['n_sentences']\n",
    "        \n",
    "        offset.append(1)\n",
    "        utterance_lengths.append(utterance_length)\n",
    "        durations.append(duration)\n",
    "        has_questions.append(has_question)\n",
    "        num_words.append(words)\n",
    "        num_sentences.append(sentence)\n",
    "        \n",
    "X4 = np.column_stack((offset, utterance_lengths, has_questions,num_words,num_sentences))  # Combine utterance lengths and has_q features\n",
    "y4 = np.array(durations)  # Target (durations)"
   ]
  },
  {
   "cell_type": "code",
   "execution_count": 125,
   "metadata": {},
   "outputs": [],
   "source": [
    "X4_train, X4_test, y4_train, y4_test = train_test_split(X4, y4, test_size=0.2, random_state=42)\n",
    "\n",
    "# Create and train the model\n",
    "model = LinearRegression()\n",
    "model.fit(X4_train, y4_train)\n",
    "\n",
    "# Test the model (optional)\n",
    "y4_pred = model.predict(X4_test)\n",
    "addedNumSentence = MAE(y4_pred,y4_test)"
   ]
  },
  {
   "cell_type": "code",
   "execution_count": 126,
   "metadata": {},
   "outputs": [
    {
     "name": "stdout",
     "output_type": "stream",
     "text": [
      "MAE including sentences per utterance:  3.0162488712927056\n"
     ]
    }
   ],
   "source": [
    "print(\"MAE including sentences per utterance: \", addedNumSentence)"
   ]
  },
  {
   "cell_type": "code",
   "execution_count": 127,
   "metadata": {},
   "outputs": [],
   "source": [
    "def one_hot_encode_speakers(speaker_names, include_other=True):\n",
    "    num_speakers = len(speaker_names)\n",
    "    one_hot_dict = {}\n",
    "\n",
    "    for i, speaker in enumerate(speaker_names):\n",
    "        encoding = [0] * i + [1] + [0] * (num_speakers - i - 1)\n",
    "        if include_other:\n",
    "            encoding.append(0)  # Add a 0 for 'other'\n",
    "        one_hot_dict[speaker] = encoding\n",
    "    \n",
    "    if include_other:\n",
    "        # Add a separate entry for 'other' with its own one-hot encoding\n",
    "        other_encoding = [0] * num_speakers + [1]\n",
    "        one_hot_dict['other'] = other_encoding\n",
    "\n",
    "    return one_hot_dict"
   ]
  },
  {
   "cell_type": "code",
   "execution_count": 128,
   "metadata": {},
   "outputs": [],
   "source": [
    "top100 = one_hot_encode_speakers(sorted_dataSpeaker)"
   ]
  },
  {
   "cell_type": "code",
   "execution_count": 129,
   "metadata": {},
   "outputs": [],
   "source": [
    "offset = []\n",
    "utterance_lengths = []\n",
    "durations = []\n",
    "has_questions = []  # List to store 'has_q' feature\n",
    "num_words = []\n",
    "num_sentences = []\n",
    "speaker_one_hot = []\n",
    "\n",
    "# Iterating through each episode\n",
    "for episode_id, turns in dataset.items():\n",
    "    # Iterating through each turn in the episode\n",
    "    for turn in turns:\n",
    "        utterance_length = len(turn['utterance'])\n",
    "        duration = turn['duration']\n",
    "        has_question = int(turn['has_q'])  # Convert boolean to int (True to 1, False to 0)\n",
    "        words = turn['n_words']\n",
    "        sentence = turn['n_sentences']\n",
    "        if turn['speaker'] in top100.keys():\n",
    "            oneHot = top100[turn['speaker']]\n",
    "        else:\n",
    "            oneHot = top100['other']\n",
    "        \n",
    "        offset.append(1)\n",
    "        utterance_lengths.append(utterance_length)\n",
    "        durations.append(duration)\n",
    "        has_questions.append(has_question)\n",
    "        num_words.append(words)\n",
    "        num_sentences.append(sentence)\n",
    "        speaker_one_hot.append(oneHot)\n",
    "        \n",
    "X5 = np.column_stack((offset, utterance_lengths, has_questions,num_words,num_sentences,speaker_one_hot))  # Combine utterance lengths and has_q features\n",
    "y5 = np.array(durations)  # Target (durations)"
   ]
  },
  {
   "cell_type": "code",
   "execution_count": 130,
   "metadata": {},
   "outputs": [
    {
     "data": {
      "text/plain": [
       "array([ 1, 13,  1,  3,  1,  1,  0,  0,  0,  0,  0,  0,  0,  0,  0,  0,  0,\n",
       "        0,  0,  0,  0,  0,  0,  0,  0,  0,  0,  0,  0,  0,  0,  0,  0,  0,\n",
       "        0,  0,  0,  0,  0,  0,  0,  0,  0,  0,  0,  0,  0,  0,  0,  0,  0,\n",
       "        0,  0,  0,  0,  0,  0,  0,  0,  0,  0,  0,  0,  0,  0,  0,  0,  0,\n",
       "        0,  0,  0,  0,  0,  0,  0,  0,  0,  0,  0,  0,  0,  0,  0,  0,  0,\n",
       "        0,  0,  0,  0,  0,  0,  0,  0,  0,  0,  0,  0,  0,  0,  0,  0,  0,\n",
       "        0,  0,  0,  0])"
      ]
     },
     "execution_count": 130,
     "metadata": {},
     "output_type": "execute_result"
    }
   ],
   "source": [
    "X5[0]"
   ]
  },
  {
   "cell_type": "code",
   "execution_count": 131,
   "metadata": {},
   "outputs": [],
   "source": [
    "X5_train, X5_test, y5_train, y5_test = train_test_split(X5, y5, test_size=0.2, random_state=42)\n",
    "\n",
    "# Create and train the model\n",
    "model = LinearRegression()\n",
    "model.fit(X5_train, y5_train)\n",
    "\n",
    "# Test the model (optional)\n",
    "y5_pred = model.predict(X5_test)\n",
    "addedSpeaker100 = MAE(y5_pred,y5_test)"
   ]
  },
  {
   "cell_type": "code",
   "execution_count": 132,
   "metadata": {},
   "outputs": [
    {
     "name": "stdout",
     "output_type": "stream",
     "text": [
      "MAE including a one hot for the top 100 speakers:  2.9524976468072213\n"
     ]
    }
   ],
   "source": [
    "print(\"MAE including a one hot for the top 100 speakers: \", addedSpeaker100)"
   ]
  },
  {
   "cell_type": "code",
   "execution_count": 133,
   "metadata": {},
   "outputs": [],
   "source": [
    "def featureCreate(length, hasq, words, sentence, speaker):\n",
    "    offset = []\n",
    "    utterance_lengths = []\n",
    "    durations = []\n",
    "    has_questions = []  # List to store 'has_q' feature\n",
    "    num_words = []\n",
    "    num_sentences = []\n",
    "    speaker_one_hot = []\n",
    "\n",
    "    # Iterating through each episode\n",
    "    for episode_id, turns in dataset.items():\n",
    "        # Iterating through each turn in the episode\n",
    "        for turn in turns:\n",
    "            if length:\n",
    "                utterance_length = len(turn['utterance'])\n",
    "                utterance_lengths.append(utterance_length)\n",
    "            else:\n",
    "                utterance_lengths.append(0)\n",
    "            if hasq:\n",
    "                has_question = int(turn['has_q'])  # Convert boolean to int (True to 1, False to 0)\n",
    "                has_questions.append(has_question)\n",
    "            else:\n",
    "                has_questions.append(0)\n",
    "            if words:\n",
    "                words = turn['n_words']\n",
    "                num_words.append(words)\n",
    "            else:\n",
    "                num_words.append(0)\n",
    "            if sentence:  \n",
    "                sentence = turn['n_sentences']\n",
    "                num_sentences.append(sentence)\n",
    "            else:\n",
    "                num_sentences.append(0)\n",
    "            if speaker:   \n",
    "                if turn['speaker'] in top100.keys():\n",
    "                    oneHot = top100[turn['speaker']]\n",
    "                else:\n",
    "                    oneHot = top100['other']\n",
    "                speaker_one_hot.append(oneHot)\n",
    "            else:\n",
    "                speaker_one_hot.append(0)\n",
    "                \n",
    "            \n",
    "                \n",
    "            duration = turn['duration']\n",
    "\n",
    "            offset.append(1)\n",
    "            durations.append(duration)\n",
    "\n",
    "    X = np.column_stack((offset, utterance_lengths, has_questions,num_words,num_sentences,speaker_one_hot))  # Combine utterance lengths and has_q features\n",
    "    y = np.array(durations)  # Target (durations)\n",
    "    \n",
    "    return X,y"
   ]
  },
  {
   "cell_type": "code",
   "execution_count": 134,
   "metadata": {},
   "outputs": [],
   "source": [
    "def pipeline(length = True, hasq = True, words = True, sentence = True, speaker = True):\n",
    "    X,y = featureCreate(length, hasq, words, sentence, speaker)\n",
    "    X_train, X_test, y_train, y_test = train_test_split(X, y, test_size=0.2, random_state=200)\n",
    "\n",
    "    # Create and train the model\n",
    "    model = LinearRegression()\n",
    "    model.fit(X_train, y_train)\n",
    "\n",
    "    # Test the model (optional)\n",
    "    y_pred = model.predict(X_test)\n",
    "    pipeline = MAE(y_pred,y_test)\n",
    "    \n",
    "    return pipeline"
   ]
  },
  {
   "cell_type": "code",
   "execution_count": 135,
   "metadata": {},
   "outputs": [
    {
     "name": "stdout",
     "output_type": "stream",
     "text": [
      "Without length feature:  3.0132762209689017\n",
      "Without question feature:  2.949213595687591\n",
      "Without words feature:  2.9685005276110763\n",
      "Without sentence feature:  2.967539914573965\n",
      "Without speaker feature:  3.0165609445061405\n"
     ]
    }
   ],
   "source": [
    "noLength = pipeline(False,True,True,True,True)\n",
    "print(\"Without length feature: \", noLength)\n",
    "\n",
    "noQuestion = pipeline(True,False,True,True,True)\n",
    "print(\"Without question feature: \", noQuestion)\n",
    "\n",
    "noWords = pipeline(True,True,False,True,True)\n",
    "print(\"Without words feature: \", noWords)\n",
    "\n",
    "noSentence = pipeline(True,True,True,False,True)\n",
    "print(\"Without sentence feature: \", noSentence)\n",
    "\n",
    "noSpeaker = pipeline(True,True,True,True,False)\n",
    "print(\"Without speaker feature: \", noSpeaker)"
   ]
  },
  {
   "cell_type": "code",
   "execution_count": 136,
   "metadata": {},
   "outputs": [
    {
     "name": "stdout",
     "output_type": "stream",
     "text": [
      "Length:  3.1296925157039466\n",
      "Speaker and Length feature:  3.024210508860644\n",
      "Speaker, length, and Words Features:  2.9664539551238946\n",
      "Speaker, length, words, Sentence Features:  2.949213595687591\n"
     ]
    }
   ],
   "source": [
    "justLength = pipeline(True,False,False,False,False)\n",
    "print(\"Length: \", justLength)\n",
    "\n",
    "justSpeakerLength = pipeline(True,False,False,False,True)\n",
    "print(\"Speaker and Length feature: \", justSpeakerLength)\n",
    "\n",
    "justSpeakerLengthWords = pipeline(True,False,True,False,True)\n",
    "print(\"Speaker, length, and Words Features: \", justSpeakerLengthWords)\n",
    "\n",
    "SpeakerLengthWordsSentence = pipeline(True,False,True,True,True)\n",
    "print(\"Speaker, length, words, Sentence Features: \", SpeakerLengthWordsSentence)"
   ]
  },
  {
   "cell_type": "code",
   "execution_count": 137,
   "metadata": {},
   "outputs": [
    {
     "name": "stdout",
     "output_type": "stream",
     "text": [
      "Words only:  3.0663312156784968\n",
      "Sentence only:  5.596817326526434\n"
     ]
    }
   ],
   "source": [
    "onlyWords = pipeline(False,False,True,False,False)\n",
    "print(\"Words only: \", onlyWords)\n",
    "\n",
    "onlySentence = pipeline(False,False,False,True,False)\n",
    "print(\"Sentence only: \", onlySentence)"
   ]
  },
  {
   "cell_type": "code",
   "execution_count": 138,
   "metadata": {},
   "outputs": [
    {
     "name": "stdout",
     "output_type": "stream",
     "text": [
      "Speaker and Words:  3.015387670789865\n",
      "Speaker and Sentence:  5.470212347313952\n"
     ]
    }
   ],
   "source": [
    "SpeakerWords = pipeline(False,False,True,False,True)\n",
    "print(\"Speaker and Words: \", SpeakerWords)\n",
    "\n",
    "SpeakerSentence = pipeline(False,False,False,True,True)\n",
    "print(\"Speaker and Sentence: \", SpeakerSentence)"
   ]
  },
  {
   "cell_type": "code",
   "execution_count": 139,
   "metadata": {},
   "outputs": [
    {
     "name": "stdout",
     "output_type": "stream",
     "text": [
      "All features:  2.9506077839241684\n"
     ]
    }
   ],
   "source": [
    "All = pipeline()\n",
    "print(\"All features: \", All)"
   ]
  },
  {
   "cell_type": "code",
   "execution_count": null,
   "metadata": {},
   "outputs": [],
   "source": []
  }
 ],
 "metadata": {
  "kernelspec": {
   "display_name": "Python 3 (ipykernel)",
   "language": "python",
   "name": "python3"
  },
  "language_info": {
   "codemirror_mode": {
    "name": "ipython",
    "version": 3
   },
   "file_extension": ".py",
   "mimetype": "text/x-python",
   "name": "python",
   "nbconvert_exporter": "python",
   "pygments_lexer": "ipython3",
   "version": "3.9.5"
  }
 },
 "nbformat": 4,
 "nbformat_minor": 4
}
